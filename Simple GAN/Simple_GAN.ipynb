{
 "cells": [
  {
   "cell_type": "code",
   "execution_count": null,
   "id": "bbd3dfab",
   "metadata": {},
   "outputs": [],
   "source": [
    "import torch\n",
    "import torch.nn as nn \n",
    "import torchvision\n",
    "import torchvision.datasets as datasets\n",
    "from torch.utils.data import DataLoader\n",
    "from torchvision.transforms import transforms\n",
    "from torch.utils.tensorboard import SummaryWriter\n",
    "\n"
   ]
  },
  {
   "cell_type": "code",
   "execution_count": null,
   "id": "73ad797e",
   "metadata": {},
   "outputs": [],
   "source": [
    "class Discriminator(nn.Module):\n",
    "    def __init__(self, img_dim):\n",
    "        super().init()\n",
    "        self.disc = nn.Sequential(\n",
    "            nn.Linear(img_dim,128),\n",
    "            nn.LeakyRelu(0.1),\n",
    "            nn.Linear(128,1),\n",
    "            nn.Sigmoid()\n",
    "        )\n",
    "    def forward(self, x):\n",
    "        return self.disc(x)\n",
    "\n"
   ]
  },
  {
   "cell_type": "code",
   "execution_count": null,
   "id": "f66f643c",
   "metadata": {},
   "outputs": [],
   "source": [
    "class Generator(nn.Module):\n",
    "    def __init__(self, z_dim,img_dim):\n",
    "        super().init()\n",
    "        self.gen = nn.Sequential(\n",
    "            nn.Linear(z_dim,256),\n",
    "            nn.LeakyRelu(0.1),\n",
    "            nn.Linear(256,img_dim),\n",
    "            nn.Tanh()\n",
    "        )\n",
    "\n",
    "    def forward(self, x):\n",
    "        return self.gen(x)"
   ]
  },
  {
   "cell_type": "code",
   "execution_count": null,
   "id": "9769a323",
   "metadata": {},
   "outputs": [],
   "source": [
    "device = torch.device('cuda' if torch.cuda.is_available() else 'cpu')\n",
    "lr = 3e-4\n",
    "z_dim = 64\n",
    "image_dim = 28*28*1\n",
    "batch_size = 64\n",
    "num_epochs = 50\n",
    "\n"
   ]
  },
  {
   "cell_type": "code",
   "execution_count": null,
   "id": "347eec26",
   "metadata": {},
   "outputs": [],
   "source": [
    "disc = Discriminator(image_dim).to(device)\n",
    "gen = Generator(z_dim,image_dim).to(device)\n",
    "fixed_noise = torch.randn((batch_size,z_dim)).to(device)\n",
    "\n",
    "transforms = transforms.Compose([\n",
    "    transforms.ToTensor(),\n",
    "    transforms.Normalize((0.1307,),(0.3081,))\n",
    "])\n"
   ]
  },
  {
   "cell_type": "code",
   "execution_count": null,
   "id": "4fddde9b",
   "metadata": {},
   "outputs": [],
   "source": [
    "dataset = datasets.MNIST(root='dataset/',train=True,transform=transforms,download=True)\n",
    "loader = DataLoader(dataset,batch_size=batch_size,shuffle=True)\n",
    "opt_disc = torch.optim.Adam(disc.parameters(),lr=lr)\n",
    "opt_gen = torch.optim.Adam(ge n.parameters(),lr=lr)\n",
    "criterion = nn.BCELoss()\n",
    "writer_fake = SummaryWriter(f\"runs/fake\")\n",
    "writer_real = SummaryWriter(f\"runs/real\")\n",
    "step =0"
   ]
  },
  {
   "cell_type": "code",
   "execution_count": null,
   "id": "deecc98c",
   "metadata": {},
   "outputs": [],
   "source": [
    "for epoch in range(num_epochs):\n",
    "    for batch_idx,(real,_) in enumerate(loader):\n",
    "        real = real.view(-1,784).to(device)\n",
    "        batch_size = real.shape[0]\n",
    "\n",
    "        #train_discrimminator : max log(D(real)) + log(1-D(G(z)))\n",
    "        noise = torch.randn(batch_size, z_dim).to(device)\n",
    "        fake = gen(noise)\n",
    "        disc_real = disc(real).view(-1)\n",
    "        lossD_real = criterion(disc_real,torch.ones_like(disc_real))\n",
    "        disc_fake = disc(fake.detach()).view(-1) #detach() : fake to be reused in generator training also\n",
    "        lossD_fake = criterion(disc_fake,torch.zeros_like(disc_fake))\n",
    "        lossD = (lossD_real + lossD_fake)/2\n",
    "        disc.zero_grad(\n",
    "        lossD.backward()\n",
    "        opt_disc.step()\n",
    "        )\n",
    "\n",
    "        #train_generator : max log(D(G(z)))\n",
    "        output = disc(fake).view(-1)\n",
    "        lossG = criterion(output,torch.ones_like(output))\n",
    "        gen.zero_grad()\n",
    "        lossG.backward()\n",
    "        opt_gen.step()\n",
    "\n",
    "\n",
    "        if batch_idx % 5 == 0:\n",
    "            print(\n",
    "                f\"Epoch[{epoch}/{num_epochs)]\\\"\n",
    "                f\"Loss D : {lossD.item():.4f}\\\"\n",
    "                f\"Loss G : {lossG.item():.4f}\"\n",
    "            )\n",
    "            \n",
    "            with torch.no_grad():\n",
    "                fake = gen(fixed_noise).reshape(-1,1,28,28)\n",
    "                data = real.reshape(-1,1,28,28)\n",
    "                img_grid_fake = torchvision.utils.make_grid(fake,normalize = True)\n",
    "                img_grid_real = torchvision.utils.make_grid(data, normalize = True)\n",
    "                writer_fake.add_image(\"fake\",img_grid_fake,step)\n",
    "                \n",
    "                writer_real.add_image(\"real\",img_grid_real,step)\n",
    "                step += 1\n",
    "            )\n",
    "        )\n",
    "\n"
   ]
  },
  {
   "cell_type": "code",
   "execution_count": null,
   "id": "d3c1d58a",
   "metadata": {},
   "outputs": [],
   "source": []
  }
 ],
 "metadata": {
  "kernelspec": {
   "display_name": "Python 3 (ipykernel)",
   "language": "python",
   "name": "python3"
  },
  "language_info": {
   "codemirror_mode": {
    "name": "ipython",
    "version": 3
   },
   "file_extension": ".py",
   "mimetype": "text/x-python",
   "name": "python",
   "nbconvert_exporter": "python",
   "pygments_lexer": "ipython3",
   "version": "3.10.4"
  }
 },
 "nbformat": 4,
 "nbformat_minor": 5
}
